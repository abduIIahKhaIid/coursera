{
 "cells": [
  {
   "cell_type": "markdown",
   "id": "4f9017d8-9f88-4e15-969c-19ae5e87f471",
   "metadata": {},
   "source": [
    "# Data Science Tools and Ecosystem\n"
   ]
  },
  {
   "cell_type": "markdown",
   "id": "e00697ed-c5bb-4013-9338-50006d2d5781",
   "metadata": {},
   "source": [
    "In this notebook, Data Science Tools and Ecosystem are summarized."
   ]
  },
  {
   "cell_type": "markdown",
   "id": "332d323c-0e13-4315-93e5-7acb397ec284",
   "metadata": {},
   "source": [
    "Some of the popular languages that Data Scientists use are:\n",
    "1. Python  \n",
    "2. R  \n",
    "3. SQL  \n",
    "4. Julia\n"
   ]
  },
  {
   "cell_type": "markdown",
   "id": "caa3ab67-c9e1-4d11-ac79-3278f1b62ee4",
   "metadata": {},
   "source": [
    "Some of the commonly used libraries used by Data Scientists include:\n",
    "1. Pandas  \n",
    "2. NumPy  \n",
    "3. ggplot2  \n",
    "4. scikit-learn"
   ]
  },
  {
   "cell_type": "markdown",
   "id": "496f7177-fe51-473b-9b8b-794cde90ade9",
   "metadata": {},
   "source": [
    "| Data Science Tools        |\n",
    "|---------------------------|\n",
    "| Jupyter Notebook          |\n",
    "| RStudio                   |\n",
    "| Apache Zeppelin           |\n"
   ]
  },
  {
   "cell_type": "markdown",
   "id": "4bc69a29-38bd-43ca-9662-4d596c9308a7",
   "metadata": {},
   "source": [
    "### Below are a few examples of evaluating arithmetic expressions in Python.\n"
   ]
  },
  {
   "cell_type": "markdown",
   "id": "dadb7851-dea7-4020-a348-c9dc64f48186",
   "metadata": {},
   "source": [
    "# This a simple arithmetic expression to multiply then add integers\n",
    "(3 * 4) + 5\n"
   ]
  },
  {
   "cell_type": "markdown",
   "id": "030d7deb-ee95-48be-a100-356fcecac568",
   "metadata": {},
   "source": [
    "# This will convert 200 minutes to hours by dividing by 60\n",
    "200 / 60\n"
   ]
  },
  {
   "cell_type": "markdown",
   "id": "e6cd97a2-9688-4431-b519-2efbcc68fe79",
   "metadata": {},
   "source": [
    "**Objectives:**\n",
    "\n",
    "- List popular languages for Data Science\n",
    "- Identify commonly used libraries in Data Science\n",
    "- Describe development tools for Data Science\n",
    "- Perform basic arithmetic in Python\n",
    "- Share Jupyter Notebooks via GitHub\n"
   ]
  },
  {
   "cell_type": "markdown",
   "id": "53a39adf-5179-4fc1-b9f1-ae1cbcbc6d9e",
   "metadata": {},
   "source": [
    "## Author\n",
    "\n",
    "Abdullah Khalid\n"
   ]
  },
  {
   "cell_type": "code",
   "execution_count": null,
   "id": "d2027265-db8f-490a-92ea-401f31206d43",
   "metadata": {},
   "outputs": [],
   "source": []
  }
 ],
 "metadata": {
  "kernelspec": {
   "display_name": "Python 3 (ipykernel)",
   "language": "python",
   "name": "python3"
  },
  "language_info": {
   "codemirror_mode": {
    "name": "ipython",
    "version": 3
   },
   "file_extension": ".py",
   "mimetype": "text/x-python",
   "name": "python",
   "nbconvert_exporter": "python",
   "pygments_lexer": "ipython3",
   "version": "3.12.8"
  }
 },
 "nbformat": 4,
 "nbformat_minor": 5
}
